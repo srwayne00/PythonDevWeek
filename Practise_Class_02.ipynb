{
  "nbformat": 4,
  "nbformat_minor": 0,
  "metadata": {
    "colab": {
      "name": "Practise_Class_02.ipynb",
      "provenance": [],
      "collapsed_sections": []
    },
    "kernelspec": {
      "name": "python3",
      "display_name": "Python 3"
    }
  },
  "cells": [
    {
      "cell_type": "markdown",
      "metadata": {
        "id": "4oyGU-HFC2to"
      },
      "source": [
        "### Atividades da semana programador python APRENDA PROGRAMANDO  => Jeferson Santos   07-10-2020"
      ]
    },
    {
      "cell_type": "markdown",
      "metadata": {
        "id": "xuzAzesoC9lF"
      },
      "source": [
        "# **Primeira atividade**"
      ]
    },
    {
      "cell_type": "code",
      "metadata": {
        "id": "Byh2HGKnCuJG",
        "outputId": "2737a3a5-327b-4a30-a509-4a0a122af85d",
        "colab": {
          "base_uri": "https://localhost:8080/",
          "height": 34
        }
      },
      "source": [
        "#Crie uma lista de produtos com as seguintes strings:\n",
        "#'computador', 'mouse', 'monitor', 'laptop'\n",
        "produtos = ['computador', 'mouse', 'monitor', 'laptop']\n",
        "produtos"
      ],
      "execution_count": null,
      "outputs": [
        {
          "output_type": "execute_result",
          "data": {
            "text/plain": [
              "['computador', 'mouse', 'monitor', 'laptop']"
            ]
          },
          "metadata": {
            "tags": []
          },
          "execution_count": 2
        }
      ]
    },
    {
      "cell_type": "code",
      "metadata": {
        "id": "lAjR5uw2whBI",
        "outputId": "5bf51a3e-4366-4c24-f934-a6a376cea67f",
        "colab": {
          "base_uri": "https://localhost:8080/",
          "height": 34
        }
      },
      "source": [
        "carro = {\n",
        "    'nome': 'corolla',\n",
        "    'ano': 2015,\n",
        "    'motor': 2.0\n",
        "}\n",
        "\n",
        "print(carro['ano'])"
      ],
      "execution_count": null,
      "outputs": [
        {
          "output_type": "stream",
          "text": [
            "2015\n"
          ],
          "name": "stdout"
        }
      ]
    },
    {
      "cell_type": "code",
      "metadata": {
        "id": "mtNDrRMWDbS_",
        "outputId": "c66023f2-f4d6-47b8-a0f9-26ef4d6dfbef",
        "colab": {
          "base_uri": "https://localhost:8080/",
          "height": 85
        }
      },
      "source": [
        "#Usando essa mesma lista, acesse a cada item mostrando a mensagem com f-string:\n",
        "#Ex: 'Mouse sem estoque.'\n",
        "for produto in produtos:\n",
        "      print(f\"O item {produto} sem estoque\")\n",
        "  "
      ],
      "execution_count": 40,
      "outputs": [
        {
          "output_type": "stream",
          "text": [
            "O item computador sem estoque\n",
            "O item mouse sem estoque\n",
            "O item monitor sem estoque\n",
            "O item laptop sem estoque\n"
          ],
          "name": "stdout"
        }
      ]
    },
    {
      "cell_type": "code",
      "metadata": {
        "id": "Gx9QoELQDdZe",
        "outputId": "182f1bd0-696d-4fe7-f70c-092ae51437c0",
        "colab": {
          "base_uri": "https://localhost:8080/",
          "height": 35
        }
      },
      "source": [
        "#Crie outra lista de números de 1 a 5. Mostre o último e o primeiro dessa lista.\n",
        "numero = ['1', '2', '3', '4', '5']\n",
        "numero[4]"
      ],
      "execution_count": 10,
      "outputs": [
        {
          "output_type": "execute_result",
          "data": {
            "application/vnd.google.colaboratory.intrinsic+json": {
              "type": "string"
            },
            "text/plain": [
              "'5'"
            ]
          },
          "metadata": {
            "tags": []
          },
          "execution_count": 10
        }
      ]
    },
    {
      "cell_type": "markdown",
      "metadata": {
        "id": "4VFs8JPtDgi1"
      },
      "source": [
        "# **Segunda atividade**"
      ]
    },
    {
      "cell_type": "code",
      "metadata": {
        "id": "8u5xfAEdDqdd"
      },
      "source": [
        "#Pense em 5 carros que você gosta. Crie uma lista com eles , use FOR para mostrar todas elas na tela.\n",
        "favorite_car = ['Ecosport', 'Hilux', 'Renegade', 'Tuscon', 'Jorney']"
      ],
      "execution_count": 43,
      "outputs": []
    },
    {
      "cell_type": "code",
      "metadata": {
        "id": "AEHhILFdDsud",
        "outputId": "e267d7f2-cc78-40c1-ee8c-e83eb2f23770",
        "colab": {
          "base_uri": "https://localhost:8080/",
          "height": 102
        }
      },
      "source": [
        "#Agora dentro do FOR, use F-String para mostrar a mensagem:\n",
        "#Ex: 'Meu Corolla tem motor 2.0'\n",
        "for carro in favorite_car:\n",
        "   print(f\"O meu {carro} tem motor 2.0\")"
      ],
      "execution_count": 45,
      "outputs": [
        {
          "output_type": "stream",
          "text": [
            "O meu Ecosport tem motor 2.0\n",
            "O meu Hilux tem motor 2.0\n",
            "O meu Renegade tem motor 2.0\n",
            "O meu Tuscon tem motor 2.0\n",
            "O meu Jorney tem motor 2.0\n"
          ],
          "name": "stdout"
        }
      ]
    },
    {
      "cell_type": "markdown",
      "metadata": {
        "id": "6_W6O8gFDhaF"
      },
      "source": [
        "# **Terceira atividade**"
      ]
    },
    {
      "cell_type": "code",
      "metadata": {
        "id": "fkq19sWyDzHV"
      },
      "source": [
        "#Crie um dicionário chamado 'usuario', com as seguintes chaves: 'nome', 'sexo', 'idade', email'. \n",
        "#Os valores de cada uma você mesmo define.\n",
        "usuario = {\n",
        "    'nome': 'Wagner', \n",
        "    'sexo': 'M', \n",
        "    'idade': 36, \n",
        "    'email': 'wagner@gmail.com'\n",
        "}"
      ],
      "execution_count": 15,
      "outputs": []
    },
    {
      "cell_type": "code",
      "metadata": {
        "id": "j0wqqnIt5o2b",
        "outputId": "ede1ca2c-6696-48a2-8500-b2a3f177fc7a",
        "colab": {
          "base_uri": "https://localhost:8080/",
          "height": 34
        }
      },
      "source": [
        "usuario"
      ],
      "execution_count": 24,
      "outputs": [
        {
          "output_type": "execute_result",
          "data": {
            "text/plain": [
              "{'email': 'wagner@gmail.com', 'idade': 36, 'nome': 'Wagner', 'sexo': 'M'}"
            ]
          },
          "metadata": {
            "tags": []
          },
          "execution_count": 24
        }
      ]
    },
    {
      "cell_type": "code",
      "metadata": {
        "id": "1uUTTRucEAGd"
      },
      "source": [
        "#Após criado, adicione uma nova chave chamada 'tipo' com o valor: 'administrador'\n",
        "usuario ['tipo'] = 'administrador'"
      ],
      "execution_count": 25,
      "outputs": []
    },
    {
      "cell_type": "code",
      "metadata": {
        "id": "Hrvyjnyh5OJl",
        "outputId": "36a70eaf-f71a-4180-a959-596dd57f8532",
        "colab": {
          "base_uri": "https://localhost:8080/",
          "height": 102
        }
      },
      "source": [
        "usuario"
      ],
      "execution_count": 26,
      "outputs": [
        {
          "output_type": "execute_result",
          "data": {
            "text/plain": [
              "{'email': 'wagner@gmail.com',\n",
              " 'idade': 36,\n",
              " 'nome': 'Wagner',\n",
              " 'sexo': 'M',\n",
              " 'tipo': 'administrador'}"
            ]
          },
          "metadata": {
            "tags": []
          },
          "execution_count": 26
        }
      ]
    },
    {
      "cell_type": "code",
      "metadata": {
        "id": "ZuSe4z_250y7",
        "outputId": "770ae156-46f7-4449-a687-6096882742cd",
        "colab": {
          "base_uri": "https://localhost:8080/",
          "height": 35
        }
      },
      "source": [
        "usuario.pop('tipo', 'chave não encotrada') "
      ],
      "execution_count": 23,
      "outputs": [
        {
          "output_type": "execute_result",
          "data": {
            "application/vnd.google.colaboratory.intrinsic+json": {
              "type": "string"
            },
            "text/plain": [
              "'chave não encotrada'"
            ]
          },
          "metadata": {
            "tags": []
          },
          "execution_count": 23
        }
      ]
    },
    {
      "cell_type": "code",
      "metadata": {
        "id": "9_YEvBywEAXl",
        "outputId": "2fc9a135-d766-4e82-c41d-d688da001333",
        "colab": {
          "base_uri": "https://localhost:8080/",
          "height": 34
        }
      },
      "source": [
        "#Mostre na tela somente as chaves deste dicionário e depois mostre somente os valores deste dicionário\n",
        "usuario.keys()"
      ],
      "execution_count": 27,
      "outputs": [
        {
          "output_type": "execute_result",
          "data": {
            "text/plain": [
              "dict_keys(['nome', 'sexo', 'idade', 'email', 'tipo'])"
            ]
          },
          "metadata": {
            "tags": []
          },
          "execution_count": 27
        }
      ]
    },
    {
      "cell_type": "code",
      "metadata": {
        "id": "yqFIBBPL7Ry2",
        "outputId": "17dc89c7-8ab1-4e6e-81f9-2d637438345b",
        "colab": {
          "base_uri": "https://localhost:8080/",
          "height": 34
        }
      },
      "source": [
        "usuario.values()"
      ],
      "execution_count": 29,
      "outputs": [
        {
          "output_type": "execute_result",
          "data": {
            "text/plain": [
              "dict_values(['Wagner', 'M', 36, 'wagner@gmail.com', 'administrador'])"
            ]
          },
          "metadata": {
            "tags": []
          },
          "execution_count": 29
        }
      ]
    },
    {
      "cell_type": "markdown",
      "metadata": {
        "id": "IL6mGzDWDiY1"
      },
      "source": [
        "# **Quarta atividade**"
      ]
    },
    {
      "cell_type": "code",
      "metadata": {
        "id": "Q07tprHhEFl9"
      },
      "source": [
        "#Crie uma lista com 4 cores diferentes. Ex: azul, vermelho, amarelo e roxo.\n",
        "cores = ['azul', 'vermelho', 'amarelo', 'roxo']  "
      ],
      "execution_count": 85,
      "outputs": []
    },
    {
      "cell_type": "code",
      "metadata": {
        "id": "9TuyXXKlENq9",
        "outputId": "2c4cb725-b50a-4e2d-9967-fff24b494c96",
        "colab": {
          "base_uri": "https://localhost:8080/",
          "height": 85
        }
      },
      "source": [
        "#Use FOR para percorrer todos os itens e se for amarelo, mostre a mensagem:\n",
        "#Ex: 'A cor do carro será amarelo.'\n",
        "\n",
        "#E se a cor não for amarelo, mostre na tela:\n",
        "#Ex: 'A cor do carro pode ser azul.'\n",
        "\n",
        "for cor in cores: \n",
        "  if cor == 'amarelo':\n",
        "    print(f\"A cor do carro será {cor}\")\n",
        "  else:\n",
        "    print(f\"A cor do carro pode ser azul\")   "
      ],
      "execution_count": 94,
      "outputs": [
        {
          "output_type": "stream",
          "text": [
            "A cor do carro pode ser azul\n",
            "A cor do carro pode ser azul\n",
            "A cor do carro será amarelo\n",
            "A cor do carro pode ser azul\n"
          ],
          "name": "stdout"
        }
      ]
    }
  ]
}